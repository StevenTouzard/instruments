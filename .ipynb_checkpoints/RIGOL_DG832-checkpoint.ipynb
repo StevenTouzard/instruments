{
 "cells": [
  {
   "cell_type": "code",
   "execution_count": 14,
   "id": "f9fb65ec-c7e3-4186-85bd-4a0a0b11e12e",
   "metadata": {},
   "outputs": [],
   "source": [
    "import pyvisa"
   ]
  },
  {
   "cell_type": "code",
   "execution_count": 15,
   "id": "2251b373-78b0-4fa9-8814-40639e74d4b3",
   "metadata": {},
   "outputs": [],
   "source": [
    "rm = pyvisa.ResourceManager()"
   ]
  },
  {
   "cell_type": "code",
   "execution_count": 16,
   "id": "c671d58e-2a1c-4976-9735-0d3e8a7b6481",
   "metadata": {},
   "outputs": [
    {
     "data": {
      "text/plain": [
       "('USB0::0x1AB1::0x0643::DG8A230500597::INSTR', 'ASRL1::INSTR', 'ASRL3::INSTR')"
      ]
     },
     "execution_count": 16,
     "metadata": {},
     "output_type": "execute_result"
    }
   ],
   "source": [
    "rm.list_resources()"
   ]
  },
  {
   "cell_type": "code",
   "execution_count": 18,
   "id": "ccb632ad-ca58-4dd4-b543-e3e27796adc2",
   "metadata": {},
   "outputs": [
    {
     "data": {
      "text/plain": [
       "'USB0::0x1AB1::0x0643::DG8A230500597::INSTR'"
      ]
     },
     "execution_count": 18,
     "metadata": {},
     "output_type": "execute_result"
    }
   ],
   "source": [
    "rm.list_resources()[0]"
   ]
  },
  {
   "cell_type": "code",
   "execution_count": 19,
   "id": "cb72efe6-eb24-46d6-b483-a63fee974b24",
   "metadata": {},
   "outputs": [],
   "source": [
    "func_gen = rm.open_resource(rm.list_resources()[0])"
   ]
  },
  {
   "cell_type": "code",
   "execution_count": 20,
   "id": "ebe34c3f-d5a5-4fe5-bbd5-8a2406a4527f",
   "metadata": {},
   "outputs": [
    {
     "data": {
      "text/plain": [
       "<'USBInstrument'('USB0::0x1AB1::0x0643::DG8A230500597::0::INSTR')>"
      ]
     },
     "execution_count": 20,
     "metadata": {},
     "output_type": "execute_result"
    }
   ],
   "source": [
    "func_gen"
   ]
  },
  {
   "cell_type": "code",
   "execution_count": 22,
   "id": "e07232d0-7e8a-4c5b-ab85-e88d7a719c1a",
   "metadata": {},
   "outputs": [
    {
     "data": {
      "text/plain": [
       "31"
      ]
     },
     "execution_count": 22,
     "metadata": {},
     "output_type": "execute_result"
    }
   ],
   "source": [
    "func_gen.write(':SOUR1:APPL:SIN 100, 1, 3, 30')"
   ]
  },
  {
   "cell_type": "code",
   "execution_count": 10,
   "id": "6426c163-b49d-4f46-9db5-9a8a961bd95a",
   "metadata": {},
   "outputs": [],
   "source": [
    "func_gen.close()"
   ]
  },
  {
   "cell_type": "code",
   "execution_count": 25,
   "id": "607543d2-63e3-4452-877a-9bfa3ffa1be6",
   "metadata": {},
   "outputs": [],
   "source": [
    "# import RIGOL_DG832 as rg\n",
    "import instrument\n",
    "import instruments_manager\n",
    "import pyvisa\n",
    "import logging\n",
    "from outputwidgethandler import OutputWidgetHandler\n",
    "import ipywidgets as w"
   ]
  },
  {
   "cell_type": "code",
   "execution_count": 26,
   "id": "835f4b58-9fc4-4769-af7d-0bdcaec3beca",
   "metadata": {
    "tags": []
   },
   "outputs": [
    {
     "data": {
      "application/vnd.jupyter.widget-view+json": {
       "model_id": "97c0691c2b05425891f442ae31035e4c",
       "version_major": 2,
       "version_minor": 0
      },
      "text/plain": [
       "Output(layout=Layout(border='1px solid black', height='160px', width='100%'))"
      ]
     },
     "metadata": {},
     "output_type": "display_data"
    }
   ],
   "source": [
    "im = instruments_manager.Instruments_manager()\n",
    "im.logger = logging.getLogger(__name__)\n",
    "# handler = logging.FileHandler('debug.log', mode='w')\n",
    "handler = OutputWidgetHandler('debug.log', mode='w')\n",
    "handler.setFormatter(logging.Formatter('%(asctime)s, %(threadName)s,  - [%(levelname)s] %(message)s'))\n",
    "im.logger.addHandler(handler)\n",
    "im.logger.setLevel(logging.DEBUG)\n",
    "\n",
    "handler.show_logs()\n",
    "\n",
    "im.set_visa_rm(pyvisa.ResourceManager())\n",
    "im.create_visa_instrument('rg', 'Rigol_DG832', im.visa_addrs[0])\n",
    "\n",
    "# rg0 = im.instruments['rg']\n",
    "# rg0.logger = logging.getLogger(__name__)"
   ]
  },
  {
   "cell_type": "code",
   "execution_count": 27,
   "id": "f5030992-01d5-4dc3-9440-a393410dca0d",
   "metadata": {},
   "outputs": [],
   "source": [
    "import Rigol_DG832 as rg"
   ]
  },
  {
   "cell_type": "raw",
   "id": "42c898b4-d518-4cc3-a344-0f7c1dc7afa8",
   "metadata": {},
   "source": [
    "rg_0 = rg.rigol_DG832('test', logger=im.logger)"
   ]
  },
  {
   "cell_type": "code",
   "execution_count": 28,
   "id": "2c9fa633-7c3b-4644-bd61-9202c497a44f",
   "metadata": {},
   "outputs": [],
   "source": [
    "from importlib import import_module\n",
    "from inspect import getmembers, isclass"
   ]
  },
  {
   "cell_type": "code",
   "execution_count": 29,
   "id": "d0c88b2f-5bfc-4275-806a-ae314e9eca62",
   "metadata": {},
   "outputs": [],
   "source": [
    "ins_module = import_module('Rigol_DG832')"
   ]
  },
  {
   "cell_type": "code",
   "execution_count": 30,
   "id": "01fc503f-d3e2-4107-9a0b-c4ca6374757f",
   "metadata": {},
   "outputs": [],
   "source": [
    "ins = getmembers(ins_module, isclass) "
   ]
  },
  {
   "cell_type": "code",
   "execution_count": 31,
   "id": "06024924-7e5b-4662-82cc-236708d4121f",
   "metadata": {},
   "outputs": [
    {
     "data": {
      "text/plain": [
       "[('Instrument', instrument.Instrument),\n",
       " ('Thread', threading.Thread),\n",
       " ('rigol_DG832', Rigol_DG832.rigol_DG832)]"
      ]
     },
     "execution_count": 31,
     "metadata": {},
     "output_type": "execute_result"
    }
   ],
   "source": [
    "ins"
   ]
  },
  {
   "cell_type": "code",
   "execution_count": 34,
   "id": "a76ab6e3-c279-469d-b8f5-695618d88b8d",
   "metadata": {},
   "outputs": [
    {
     "ename": "NameError",
     "evalue": "name 'settings_path' is not defined",
     "output_type": "error",
     "traceback": [
      "\u001b[1;31m---------------------------------------------------------------------------\u001b[0m",
      "\u001b[1;31mNameError\u001b[0m                                 Traceback (most recent call last)",
      "\u001b[1;32m<ipython-input-34-b18e98ad7f04>\u001b[0m in \u001b[0;36m<module>\u001b[1;34m\u001b[0m\n\u001b[1;32m----> 1\u001b[1;33m \u001b[0msettings_path\u001b[0m\u001b[1;33m\u001b[0m\u001b[1;33m\u001b[0m\u001b[0m\n\u001b[0m",
      "\u001b[1;31mNameError\u001b[0m: name 'settings_path' is not defined"
     ]
    }
   ],
   "source": [
    "settings_path"
   ]
  },
  {
   "cell_type": "code",
   "execution_count": null,
   "id": "307b65fb-929e-49fd-9af8-e28b5e59fc66",
   "metadata": {},
   "outputs": [],
   "source": []
  }
 ],
 "metadata": {
  "kernelspec": {
   "display_name": "Python 3",
   "language": "python",
   "name": "python3"
  },
  "language_info": {
   "codemirror_mode": {
    "name": "ipython",
    "version": 3
   },
   "file_extension": ".py",
   "mimetype": "text/x-python",
   "name": "python",
   "nbconvert_exporter": "python",
   "pygments_lexer": "ipython3",
   "version": "3.9.1"
  }
 },
 "nbformat": 4,
 "nbformat_minor": 5
}
