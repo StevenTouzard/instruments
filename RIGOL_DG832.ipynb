{
 "cells": [
  {
   "cell_type": "code",
   "execution_count": 1,
   "id": "607543d2-63e3-4452-877a-9bfa3ffa1be6",
   "metadata": {},
   "outputs": [],
   "source": [
    "import instrument\n",
    "import instruments_manager\n",
    "import pyvisa\n",
    "import logging\n",
    "from outputwidgethandler import OutputWidgetHandler\n",
    "import ipywidgets as w"
   ]
  },
  {
   "cell_type": "code",
   "execution_count": 2,
   "id": "835f4b58-9fc4-4769-af7d-0bdcaec3beca",
   "metadata": {
    "tags": []
   },
   "outputs": [
    {
     "data": {
      "application/vnd.jupyter.widget-view+json": {
       "model_id": "a008707f47b943eba5725c3e2c6191f1",
       "version_major": 2,
       "version_minor": 0
      },
      "text/plain": [
       "Output(layout=Layout(border='1px solid black', height='160px', width='100%'))"
      ]
     },
     "metadata": {},
     "output_type": "display_data"
    }
   ],
   "source": [
    "im = instruments_manager.InstrumentsManager()\n",
    "im.handler.show_logs()\n",
    "\n",
    "im.set_visa_rm(pyvisa.ResourceManager())\n",
    "im.create_visa_instrument('rg', 'Rigol_DG832', im.visa_addrs[0])\n",
    "\n",
    "rg0 = im.instruments['rg']"
   ]
  },
  {
   "cell_type": "code",
   "execution_count": 3,
   "id": "a6d67f93-2dff-47e5-b71d-4688f7a4e439",
   "metadata": {},
   "outputs": [],
   "source": [
    "import instrument_gui as ig"
   ]
  },
  {
   "cell_type": "code",
   "execution_count": 4,
   "id": "7d58d1e1-2624-4436-a792-5ab5f5c68f11",
   "metadata": {},
   "outputs": [],
   "source": [
    "ig0 = ig.Instrument_gui()\n",
    "ig0.set_instrument(rg0)\n",
    "ig0.get_parameters()"
   ]
  },
  {
   "cell_type": "code",
   "execution_count": 5,
   "id": "6d3de1f8-6ab8-443b-a6f0-b5f01c67a3c0",
   "metadata": {
    "pycharm": {
     "name": "#%%\n"
    }
   },
   "outputs": [
    {
     "data": {
      "application/vnd.jupyter.widget-view+json": {
       "model_id": "4d39da14c5e647d7b1d91c764d8af742",
       "version_major": 2,
       "version_minor": 0
      },
      "text/plain": [
       "VBox(children=(HBox(children=(FloatSlider(value=9881400.0, description='frequency_ch_1', max=35000000.0, style…"
      ]
     },
     "metadata": {},
     "output_type": "display_data"
    }
   ],
   "source": [
    "ig0.create_gui()"
   ]
  },
  {
   "cell_type": "code",
   "execution_count": null,
   "id": "78f5998c",
   "metadata": {
    "collapsed": false,
    "jupyter": {
     "outputs_hidden": false
    },
    "pycharm": {
     "name": "#%%\n"
    }
   },
   "outputs": [],
   "source": []
  }
 ],
 "metadata": {
  "kernelspec": {
   "display_name": "Python (instruments)",
   "language": "python",
   "name": "instruments"
  },
  "language_info": {
   "codemirror_mode": {
    "name": "ipython",
    "version": 3
   },
   "file_extension": ".py",
   "mimetype": "text/x-python",
   "name": "python",
   "nbconvert_exporter": "python",
   "pygments_lexer": "ipython3",
   "version": "3.9.5"
  }
 },
 "nbformat": 4,
 "nbformat_minor": 5
}
